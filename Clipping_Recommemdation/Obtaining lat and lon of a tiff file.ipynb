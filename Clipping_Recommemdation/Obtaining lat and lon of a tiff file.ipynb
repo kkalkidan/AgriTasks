{
 "cells": [
  {
   "cell_type": "code",
   "execution_count": 62,
   "metadata": {},
   "outputs": [
    {
     "name": "stderr",
     "output_type": "stream",
     "text": [
      "/Library/Frameworks/Python.framework/Versions/3.6/lib/python3.6/site-packages/ipykernel_launcher.py:20: DeprecationWarning: Right multiplication will be prohibited in version 3.0\n"
     ]
    }
   ],
   "source": [
    "import rasterio\n",
    "import numpy as np\n",
    "from affine import Affine\n",
    "from pyproj import Proj, transform\n",
    "\n",
    "def recommendation_val(lon, lat):\n",
    "    return np.random.randint(0, 255)\n",
    "\n",
    "# ************** copied from stack exchange*****************\n",
    "# https://gis.stackexchange.com/questions/129847/obtain-coordinates-and-corresponding-pixel-values-from-geotiff-using-python-gdal\n",
    "fname = 'TAXOUSDA_1km_Ethiopia.tiff'\n",
    "with rasterio.open(fname) as r:\n",
    "    profile = r.profile\n",
    "    T0 = r.transform\n",
    "    p1 = Proj(r.crs)\n",
    "    A = r.read() \n",
    "    \n",
    "\n",
    "cols, rows = np.meshgrid(np.arange(A.shape[2]), np.arange(A.shape[1]))\n",
    "T1 = T0 * Affine.translation(0.5, 0.5)\n",
    "rc2en = lambda r, c: (c, r) * T1\n",
    "eastings, northings = np.vectorize(rc2en, otypes=[np.float, np.float])(rows, cols)\n",
    "\n",
    "p2 = Proj(proj='latlong',datum='WGS84')\n",
    "\n",
    "longs, lats = transform(p1, p2, eastings, northings)\n",
    "# **********************************************************\n",
    "\n",
    "# reshape\n",
    "A = A.reshape(A.shape[1], A.shape[2])\n",
    "# zeroing out numpy array A\n",
    "A = A & ~A\n",
    "\n",
    "\n",
    "for i, (lon, lat) in enumerate(zip(longs, lats)):\n",
    "    for j in range(longs.shape[1]):\n",
    "        # get recommendation for a specific lon and lat\n",
    "        # recommendation val function needs to be written\n",
    "        # Updating array A\n",
    "        A[i][j] = recommendation_val(lon[j], lat[j])\n",
    "\n",
    "#Writing it as a tiff\n",
    "profile.update(\n",
    "        dtype=rasterio.uint8)\n",
    "\n",
    "with rasterio.open('recommendation.tif', 'w', **profile) as dst:\n",
    "    dst.write(A.astype(rasterio.uint8), 1)"
   ]
  },
  {
   "cell_type": "code",
   "execution_count": null,
   "metadata": {},
   "outputs": [],
   "source": []
  }
 ],
 "metadata": {
  "kernelspec": {
   "display_name": "Python 3",
   "language": "python",
   "name": "python3"
  },
  "language_info": {
   "codemirror_mode": {
    "name": "ipython",
    "version": 3
   },
   "file_extension": ".py",
   "mimetype": "text/x-python",
   "name": "python",
   "nbconvert_exporter": "python",
   "pygments_lexer": "ipython3",
   "version": "3.6.0"
  }
 },
 "nbformat": 4,
 "nbformat_minor": 2
}
